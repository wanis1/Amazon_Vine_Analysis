{
 "cells": [
  {
   "cell_type": "code",
   "execution_count": 2,
   "metadata": {
    "colab": {
     "base_uri": "https://localhost:8080/"
    },
    "id": "zuaNSIpI61VL",
    "outputId": "beb98f90-f2c1-4233-fcd9-375a9de0e4d5"
   },
   "outputs": [
    {
     "name": "stdout",
     "output_type": "stream",
     "text": [
      "\r",
      "0% [Working]\r",
      "            \r",
      "Hit:1 http://security.ubuntu.com/ubuntu bionic-security InRelease\n",
      "Hit:2 https://cloud.r-project.org/bin/linux/ubuntu bionic-cran40/ InRelease\n",
      "Ign:3 https://developer.download.nvidia.com/compute/cuda/repos/ubuntu1804/x86_64  InRelease\n",
      "Ign:4 https://developer.download.nvidia.com/compute/machine-learning/repos/ubuntu1804/x86_64  InRelease\n",
      "Hit:5 http://ppa.launchpad.net/c2d4u.team/c2d4u4.0+/ubuntu bionic InRelease\n",
      "Hit:6 https://developer.download.nvidia.com/compute/cuda/repos/ubuntu1804/x86_64  Release\n",
      "Hit:7 https://developer.download.nvidia.com/compute/machine-learning/repos/ubuntu1804/x86_64  Release\n",
      "Hit:8 http://archive.ubuntu.com/ubuntu bionic InRelease\n",
      "Hit:9 http://archive.ubuntu.com/ubuntu bionic-updates InRelease\n",
      "Hit:10 http://ppa.launchpad.net/cran/libgit2/ubuntu bionic InRelease\n",
      "Hit:11 http://archive.ubuntu.com/ubuntu bionic-backports InRelease\n",
      "Hit:12 http://ppa.launchpad.net/deadsnakes/ppa/ubuntu bionic InRelease\n",
      "Hit:13 http://ppa.launchpad.net/graphics-drivers/ppa/ubuntu bionic InRelease\n",
      "Reading package lists... Done\n"
     ]
    }
   ],
   "source": [
    "import os\n",
    "# Find the latest version of spark 3.0 from http://www.apache.org/dist/spark/ and enter as the spark version\n",
    "# For example:\n",
    "# spark_version = 'spark-3.0.3'\n",
    "spark_version = 'spark-3.0.3'\n",
    "os.environ['SPARK_VERSION']=spark_version\n",
    "\n",
    "# Install Spark and Java\n",
    "!apt-get update\n",
    "!apt-get install openjdk-11-jdk-headless -qq > /dev/null\n",
    "!wget -q http://www.apache.org/dist/spark/$SPARK_VERSION/$SPARK_VERSION-bin-hadoop2.7.tgz\n",
    "!tar xf $SPARK_VERSION-bin-hadoop2.7.tgz\n",
    "!pip install -q findspark\n",
    "\n",
    "# Set Environment Variables\n",
    "import os\n",
    "os.environ[\"JAVA_HOME\"] = \"/usr/lib/jvm/java-11-openjdk-amd64\"\n",
    "os.environ[\"SPARK_HOME\"] = f\"/content/{spark_version}-bin-hadoop2.7\"\n",
    "\n",
    "# Start a SparkSession\n",
    "import findspark\n",
    "findspark.init()"
   ]
  },
  {
   "cell_type": "code",
   "execution_count": 3,
   "metadata": {
    "colab": {
     "base_uri": "https://localhost:8080/"
    },
    "id": "V3A6saJG65-J",
    "outputId": "ae2da233-8bfd-46e0-9b6a-0f814ca9ee72"
   },
   "outputs": [
    {
     "name": "stdout",
     "output_type": "stream",
     "text": [
      "--2021-10-18 01:03:43--  https://jdbc.postgresql.org/download/postgresql-42.2.16.jar\n",
      "Resolving jdbc.postgresql.org (jdbc.postgresql.org)... 72.32.157.228, 2001:4800:3e1:1::228\n",
      "Connecting to jdbc.postgresql.org (jdbc.postgresql.org)|72.32.157.228|:443... connected.\n",
      "HTTP request sent, awaiting response... 200 OK\n",
      "Length: 1002883 (979K) [application/java-archive]\n",
      "Saving to: ‘postgresql-42.2.16.jar’\n",
      "\n",
      "postgresql-42.2.16. 100%[===================>] 979.38K  --.-KB/s    in 0.08s   \n",
      "\n",
      "2021-10-18 01:03:43 (11.4 MB/s) - ‘postgresql-42.2.16.jar’ saved [1002883/1002883]\n",
      "\n"
     ]
    }
   ],
   "source": [
    "# Download the Postgres driver that will allow Spark to interact with Postgres.\n",
    "!wget https://jdbc.postgresql.org/download/postgresql-42.2.16.jar"
   ]
  },
  {
   "cell_type": "code",
   "execution_count": 4,
   "metadata": {
    "id": "nXoD2nup66F4"
   },
   "outputs": [],
   "source": [
    "from pyspark.sql import SparkSession\n",
    "spark = SparkSession.builder.appName(\"M16-Amazon-Challenge\").config(\"spark.driver.extraClassPath\",\"/content/postgresql-42.2.16.jar\").getOrCreate()"
   ]
  },
  {
   "cell_type": "code",
   "execution_count": 5,
   "metadata": {
    "colab": {
     "base_uri": "https://localhost:8080/"
    },
    "id": "27ftcnwS66Iy",
    "outputId": "5f3c34e1-1c0d-4015-fa41-ea517fc85180"
   },
   "outputs": [
    {
     "name": "stdout",
     "output_type": "stream",
     "text": [
      "+-----------+-----------+--------------+----------+--------------+--------------------+----------------+-----------+-------------+-----------+----+-----------------+--------------------+--------------------+-----------+\n",
      "|marketplace|customer_id|     review_id|product_id|product_parent|       product_title|product_category|star_rating|helpful_votes|total_votes|vine|verified_purchase|     review_headline|         review_body|review_date|\n",
      "+-----------+-----------+--------------+----------+--------------+--------------------+----------------+-----------+-------------+-----------+----+-----------------+--------------------+--------------------+-----------+\n",
      "|         US|   18069663|R3P2HIOQCIN5ZU|B000XB31C0|     265024781|Minnetonka Men's ...|           Shoes|          1|            0|          0|   N|                Y|                   .|Do not buy: reall...| 2015-08-31|\n",
      "|         US|   16251825|R12VVR0WH5Q24V|B00CFYZH5W|     259035853|Teva Men's Pajaro...|           Shoes|          5|            0|          0|   N|                Y|     super flip flop|provides great cu...| 2015-08-31|\n",
      "|         US|   20381037| RNCCKB6TV5EEF|B00S8JNN3Q|     666066660|Anne Klein Perfec...|           Shoes|          4|            0|          0|   N|                Y| Great clutch purse!|It's perfect if y...| 2015-08-31|\n",
      "|         US|     108364|R2NZXYIVCGB13W|B00XFBPOQG|     448483263|adidas Men's 10K ...|           Shoes|          5|            0|          6|   N|                Y|              Badass|  Getting what u see| 2015-08-31|\n",
      "|         US|   45449350|R2EQ1TG9IT3OEQ|B00SW64Y9W|       7853171|OverBling Sneaker...|           Shoes|          3|            0|          0|   N|                Y|         Three Stars|               small| 2015-08-31|\n",
      "|         US|   19324665|R1WXA9JSC2H1U1|B011F9E6LI|      14311457|MESSI 15.3 FG/AG ...|           Shoes|          5|            1|          1|   N|                Y|          Five Stars|My 13 year old so...| 2015-08-31|\n",
      "|         US|   50073594|R12ENYLFGGNWRV|B00HAUP1OI|     264821602|Hoka One One Men'...|           Shoes|          5|            1|          1|   N|                Y|Finally, some cus...|Ok, I have been s...| 2015-08-31|\n",
      "|         US|   21706057|R2R07E5PNXEUO5|B00L1RKOKW|     767118055|Olukai Nohea Mesh...|           Shoes|          4|            0|          0|   N|                Y|good deal, but ha...|I went a full siz...| 2015-08-31|\n",
      "|         US|   13708216|R27BA52AKWMWN3|B005WA9MSE|     813856438|Carolina Mens 6\" ...|           Shoes|          5|            0|          0|   N|                Y|... would have to...|I would have to s...| 2015-08-31|\n",
      "|         US|   40542649| RLF8DOID2KD5O|B00BEYQI5C|     661491213|Alegria Women's S...|           Shoes|          3|            0|          0|   N|                Y|           Too small|The size is misle...| 2015-08-31|\n",
      "|         US|   13409446|R369CEXHXHC6NQ|B00EYAFTCQ|     332158165|Naturalizer Women...|           Shoes|          5|            0|          0|   N|                Y|          Five Stars|These shoes are v...| 2015-08-31|\n",
      "|         US|    9451727|R171PPIJXFONVI|B00I0QHY32|      49243908|Forever Link Wome...|           Shoes|          5|            0|          0|   N|                Y|          Five Stars|I love these sand...| 2015-08-31|\n",
      "|         US|     193731|R2JDNM8F2P06FU|B010FZZKYA|     161497902|Versace Collectio...|           Shoes|          4|            1|          1|   N|                Y|          Four Stars|Good quality shoe...| 2015-08-31|\n",
      "|         US|   34798634|R2W977FO4M97XT|B00V8B30K2|     759958795|Twisted Girl's Ch...|           Shoes|          5|            0|          1|   N|                Y|Good shoes, comfo...|My daughter reall...| 2015-08-31|\n",
      "|         US|   37235551|R3AM24QPLI28UY|B00LAVB1TC|     910150896|Travel Smart Hand...|           Shoes|          2|            1|          2|   N|                Y|           Two Stars|         It's okay .| 2015-08-31|\n",
      "|         US|   27081399| REDVXSFYVNT5T|B003C1P8B0|     762792587|Saucony Originals...|           Shoes|          5|            0|          0|   N|                Y|    Love these shoes|Love these shoes!...| 2015-08-31|\n",
      "|         US|     120678|R14AIIK7D6ENDZ|B000W3UL7W|     123724495|Dr. Marten's Wome...|           Shoes|          5|            0|          0|   N|                Y|          Five Stars|                Good| 2015-08-31|\n",
      "|         US|   22272389|R3B1NURKMCVAL1|B00LX65PQO|     848850234|Skechers Performa...|           Shoes|          3|            2|          2|   N|                Y|         Three Stars|I like the go wal...| 2015-08-31|\n",
      "|         US|   19584241|R14Q1GZGV10IMX|B00BEE7N3I|     211637196|Hi-Tec Kid's Nepa...|           Shoes|          4|            0|          0|   N|                Y|          Four Stars|Kids love them fo...| 2015-08-31|\n",
      "|         US|   12334573| R9BHBB06QD6TM|B008NCHMBW|     138572112|Foot Sox Original...|           Shoes|          1|            2|          2|   N|                Y|Tissue paper is t...|Tissue paper is t...| 2015-08-31|\n",
      "+-----------+-----------+--------------+----------+--------------+--------------------+----------------+-----------+-------------+-----------+----+-----------------+--------------------+--------------------+-----------+\n",
      "only showing top 20 rows\n",
      "\n"
     ]
    }
   ],
   "source": [
    "from pyspark import SparkFiles\n",
    "url = \"https://s3.amazonaws.com/amazon-reviews-pds/tsv/amazon_reviews_us_Shoes_v1_00.tsv.gz\"\n",
    "spark.sparkContext.addFile(url)\n",
    "df = spark.read.option(\"encoding\", \"UTF-8\").csv(SparkFiles.get(\"amazon_reviews_us_Shoes_v1_00.tsv.gz\"), sep=\"\\t\", header=True, inferSchema=True)\n",
    "df.show()"
   ]
  },
  {
   "cell_type": "code",
   "execution_count": 6,
   "metadata": {
    "colab": {
     "base_uri": "https://localhost:8080/"
    },
    "id": "O4Tnv5IO66Lv",
    "outputId": "80d330c9-cda7-40bb-be5d-1da01714ab6d"
   },
   "outputs": [
    {
     "name": "stdout",
     "output_type": "stream",
     "text": [
      "+-----------+-----------+--------------+----------+--------------+--------------------+----------------+-----------+-------------+-----------+----+-----------------+-------------------+--------------------+-----------+\n",
      "|marketplace|customer_id|     review_id|product_id|product_parent|       product_title|product_category|star_rating|helpful_votes|total_votes|vine|verified_purchase|    review_headline|         review_body|review_date|\n",
      "+-----------+-----------+--------------+----------+--------------+--------------------+----------------+-----------+-------------+-----------+----+-----------------+-------------------+--------------------+-----------+\n",
      "|         US|   18069663|R3P2HIOQCIN5ZU|B000XB31C0|     265024781|Minnetonka Men's ...|           Shoes|          1|            0|          0|   N|                Y|                  .|Do not buy: reall...| 2015-08-31|\n",
      "|         US|   16251825|R12VVR0WH5Q24V|B00CFYZH5W|     259035853|Teva Men's Pajaro...|           Shoes|          5|            0|          0|   N|                Y|    super flip flop|provides great cu...| 2015-08-31|\n",
      "|         US|   20381037| RNCCKB6TV5EEF|B00S8JNN3Q|     666066660|Anne Klein Perfec...|           Shoes|          4|            0|          0|   N|                Y|Great clutch purse!|It's perfect if y...| 2015-08-31|\n",
      "|         US|     108364|R2NZXYIVCGB13W|B00XFBPOQG|     448483263|adidas Men's 10K ...|           Shoes|          5|            0|          6|   N|                Y|             Badass|  Getting what u see| 2015-08-31|\n",
      "|         US|   45449350|R2EQ1TG9IT3OEQ|B00SW64Y9W|       7853171|OverBling Sneaker...|           Shoes|          3|            0|          0|   N|                Y|        Three Stars|               small| 2015-08-31|\n",
      "+-----------+-----------+--------------+----------+--------------+--------------------+----------------+-----------+-------------+-----------+----+-----------------+-------------------+--------------------+-----------+\n",
      "only showing top 5 rows\n",
      "\n"
     ]
    }
   ],
   "source": [
    "from pyspark.sql.functions import to_date\n",
    "# Read in the Review dataset as a DataFrame\n",
    "df.show(5)"
   ]
  },
  {
   "cell_type": "code",
   "execution_count": 7,
   "metadata": {
    "colab": {
     "base_uri": "https://localhost:8080/"
    },
    "id": "hcSlQIl666PJ",
    "outputId": "8879088e-5d2f-4f45-ab99-7d4b9cf7df35"
   },
   "outputs": [
    {
     "name": "stdout",
     "output_type": "stream",
     "text": [
      "+--------------+-----------+-------------+-----------+----+-----------------+\n",
      "|     review_id|star_rating|helpful_votes|total_votes|vine|verified_purchase|\n",
      "+--------------+-----------+-------------+-----------+----+-----------------+\n",
      "|R3P2HIOQCIN5ZU|          1|            0|          0|   N|                Y|\n",
      "|R12VVR0WH5Q24V|          5|            0|          0|   N|                Y|\n",
      "| RNCCKB6TV5EEF|          4|            0|          0|   N|                Y|\n",
      "|R2NZXYIVCGB13W|          5|            0|          6|   N|                Y|\n",
      "|R2EQ1TG9IT3OEQ|          3|            0|          0|   N|                Y|\n",
      "|R1WXA9JSC2H1U1|          5|            1|          1|   N|                Y|\n",
      "|R12ENYLFGGNWRV|          5|            1|          1|   N|                Y|\n",
      "|R2R07E5PNXEUO5|          4|            0|          0|   N|                Y|\n",
      "|R27BA52AKWMWN3|          5|            0|          0|   N|                Y|\n",
      "| RLF8DOID2KD5O|          3|            0|          0|   N|                Y|\n",
      "|R369CEXHXHC6NQ|          5|            0|          0|   N|                Y|\n",
      "|R171PPIJXFONVI|          5|            0|          0|   N|                Y|\n",
      "|R2JDNM8F2P06FU|          4|            1|          1|   N|                Y|\n",
      "|R2W977FO4M97XT|          5|            0|          1|   N|                Y|\n",
      "|R3AM24QPLI28UY|          2|            1|          2|   N|                Y|\n",
      "| REDVXSFYVNT5T|          5|            0|          0|   N|                Y|\n",
      "|R14AIIK7D6ENDZ|          5|            0|          0|   N|                Y|\n",
      "|R3B1NURKMCVAL1|          3|            2|          2|   N|                Y|\n",
      "|R14Q1GZGV10IMX|          4|            0|          0|   N|                Y|\n",
      "| R9BHBB06QD6TM|          1|            2|          2|   N|                Y|\n",
      "+--------------+-----------+-------------+-----------+----+-----------------+\n",
      "only showing top 20 rows\n",
      "\n"
     ]
    }
   ],
   "source": [
    "# Create the vine_table DataFrame\n",
    "vine_df =df.select([\"review_id\",\"star_rating\",\"helpful_votes\",\"total_votes\",\"vine\",\"verified_purchase\"])\n",
    "vine_df.show()"
   ]
  },
  {
   "cell_type": "code",
   "execution_count": 8,
   "metadata": {
    "colab": {
     "base_uri": "https://localhost:8080/"
    },
    "id": "vBb-8iUD66SR",
    "outputId": "3aecc374-1947-4daf-bf84-a30e5345b689"
   },
   "outputs": [
    {
     "name": "stdout",
     "output_type": "stream",
     "text": [
      "+--------------+-----------+-------------+-----------+----+-----------------+\n",
      "|     review_id|star_rating|helpful_votes|total_votes|vine|verified_purchase|\n",
      "+--------------+-----------+-------------+-----------+----+-----------------+\n",
      "|R37F42INKX7L9K|          5|           45|         49|   N|                Y|\n",
      "|R2EHKYNEP8WVSR|          5|           25|         25|   N|                Y|\n",
      "| RXOS7BHID0UHL|          5|           16|         27|   N|                N|\n",
      "|R33HHGFPB403GM|          5|           19|         21|   N|                Y|\n",
      "| RY9O9XNLP464N|          2|           19|         22|   N|                Y|\n",
      "|R2VP11C28JAEZF|          5|           30|         30|   N|                Y|\n",
      "|R1TXGR1HA2M3P3|          5|           28|         29|   N|                Y|\n",
      "| R6OD85TMEMHQQ|          5|           28|         28|   N|                Y|\n",
      "|R1G4PAJXP3FTN7|          2|           43|         51|   N|                Y|\n",
      "|R2P2S8UGUMCOLX|          5|           21|         22|   N|                Y|\n",
      "| RBTQKXGJ9RP7C|          1|           33|         33|   N|                Y|\n",
      "|R342L93CXGDZO5|          2|           73|         76|   N|                Y|\n",
      "|R31Z97KFD4HMNF|          3|           23|         26|   N|                Y|\n",
      "|R2NDB7EQLYK87A|          5|           44|         46|   N|                Y|\n",
      "|R1C0W0OSBCVXC2|          1|           45|         46|   N|                Y|\n",
      "|R154Q41ID7FTFC|          5|           24|         26|   N|                Y|\n",
      "|R3GFX9ZNZ0T3TA|          1|           35|         35|   N|                Y|\n",
      "|R2H8MH0N2IZKMY|          5|           22|         23|   N|                Y|\n",
      "|R1MYE8WQ3812L8|          5|           17|         20|   N|                Y|\n",
      "| RYSL8MU2858GB|          5|           71|         73|   N|                Y|\n",
      "+--------------+-----------+-------------+-----------+----+-----------------+\n",
      "only showing top 20 rows\n",
      "\n"
     ]
    }
   ],
   "source": [
    "#total vote countes greater than 20 votes\n",
    "vine_filtered_votes_df = vine_df.filter(\"total_votes>=20\")\n",
    "vine_filtered_votes_df.show()"
   ]
  },
  {
   "cell_type": "code",
   "execution_count": 9,
   "metadata": {
    "colab": {
     "base_uri": "https://localhost:8080/"
    },
    "id": "_TQaTinx66VS",
    "outputId": "5e8ebd83-eab9-4949-e4f0-33c51b15646d"
   },
   "outputs": [
    {
     "name": "stdout",
     "output_type": "stream",
     "text": [
      "+--------------+-----------+-------------+-----------+----+-----------------+\n",
      "|     review_id|star_rating|helpful_votes|total_votes|vine|verified_purchase|\n",
      "+--------------+-----------+-------------+-----------+----+-----------------+\n",
      "|R37F42INKX7L9K|          5|           45|         49|   N|                Y|\n",
      "|R2EHKYNEP8WVSR|          5|           25|         25|   N|                Y|\n",
      "| RXOS7BHID0UHL|          5|           16|         27|   N|                N|\n",
      "|R33HHGFPB403GM|          5|           19|         21|   N|                Y|\n",
      "| RY9O9XNLP464N|          2|           19|         22|   N|                Y|\n",
      "|R2VP11C28JAEZF|          5|           30|         30|   N|                Y|\n",
      "|R1TXGR1HA2M3P3|          5|           28|         29|   N|                Y|\n",
      "| R6OD85TMEMHQQ|          5|           28|         28|   N|                Y|\n",
      "|R1G4PAJXP3FTN7|          2|           43|         51|   N|                Y|\n",
      "|R2P2S8UGUMCOLX|          5|           21|         22|   N|                Y|\n",
      "| RBTQKXGJ9RP7C|          1|           33|         33|   N|                Y|\n",
      "|R342L93CXGDZO5|          2|           73|         76|   N|                Y|\n",
      "|R31Z97KFD4HMNF|          3|           23|         26|   N|                Y|\n",
      "|R2NDB7EQLYK87A|          5|           44|         46|   N|                Y|\n",
      "|R1C0W0OSBCVXC2|          1|           45|         46|   N|                Y|\n",
      "|R154Q41ID7FTFC|          5|           24|         26|   N|                Y|\n",
      "|R3GFX9ZNZ0T3TA|          1|           35|         35|   N|                Y|\n",
      "|R2H8MH0N2IZKMY|          5|           22|         23|   N|                Y|\n",
      "|R1MYE8WQ3812L8|          5|           17|         20|   N|                Y|\n",
      "| RYSL8MU2858GB|          5|           71|         73|   N|                Y|\n",
      "+--------------+-----------+-------------+-----------+----+-----------------+\n",
      "only showing top 20 rows\n",
      "\n"
     ]
    }
   ],
   "source": [
    "# Filter all the rows where the number of helpful_votes divided by total_votes is equal to or greater than 50%\n",
    "helpful_by_total_df = vine_filtered_votes_df.filter(\"(helpful_votes/total_votes)>=0.5\")\n",
    "helpful_by_total_df.show()"
   ]
  },
  {
   "cell_type": "code",
   "execution_count": 10,
   "metadata": {
    "colab": {
     "base_uri": "https://localhost:8080/"
    },
    "id": "fojM9dWP66YP",
    "outputId": "caca1080-564f-41d2-e926-a0c2824ea267"
   },
   "outputs": [
    {
     "name": "stdout",
     "output_type": "stream",
     "text": [
      "+--------------+-----------+-------------+-----------+----+-----------------+\n",
      "|     review_id|star_rating|helpful_votes|total_votes|vine|verified_purchase|\n",
      "+--------------+-----------+-------------+-----------+----+-----------------+\n",
      "|R2N45ZKRRZS856|          5|           21|         22|   Y|                N|\n",
      "| R5OMLMK13A8NS|          5|           34|         38|   Y|                N|\n",
      "|R2MPEQ4SPTEQNS|          4|          180|        184|   Y|                N|\n",
      "| RIR0D3KJ0CQ31|          4|           21|         21|   Y|                N|\n",
      "|R1SPWJDHUWWC5E|          5|           88|         98|   Y|                N|\n",
      "|R1X6M5XA3FT98W|          5|           24|         26|   Y|                N|\n",
      "|R37VCW6HA0Z72T|          5|           27|         28|   Y|                N|\n",
      "|R2XRYNV2SY3ZKL|          5|           53|         56|   Y|                N|\n",
      "|R1Y93KWKAX1P5N|          2|           26|         31|   Y|                N|\n",
      "|R2QVTDYYLTP8SL|          5|           21|         24|   Y|                N|\n",
      "|R3KOK2SH39BZU1|          3|           94|         96|   Y|                N|\n",
      "|R2VOM73EHLPXJW|          4|           35|         38|   Y|                N|\n",
      "|R3SEZS7BZEC69Y|          5|           16|         20|   Y|                N|\n",
      "|R1MJ5J272V19O6|          4|           49|         51|   Y|                N|\n",
      "|R3A7BQX1JDKOM5|          4|           20|         20|   Y|                N|\n",
      "|R1307JMPUEQXOW|          5|           31|         35|   Y|                N|\n",
      "| RXV0SDXE5B15T|          2|           39|         42|   Y|                N|\n",
      "| RBMDYE7LUH9FI|          5|           26|         32|   Y|                N|\n",
      "|R1N4W961QV59BV|          5|           25|         34|   Y|                N|\n",
      "|R11XKHFS4KQS3Z|          4|          205|        211|   Y|                N|\n",
      "+--------------+-----------+-------------+-----------+----+-----------------+\n",
      "only showing top 20 rows\n",
      "\n"
     ]
    }
   ],
   "source": [
    "# Filter all the rows where a review was written as part of the Vine program (paid), vine == 'Y'\n",
    "vine_paid_df = helpful_by_total_df.filter(\"vine == 'Y'\")\n",
    "vine_paid_df.show()"
   ]
  },
  {
   "cell_type": "code",
   "execution_count": 11,
   "metadata": {
    "colab": {
     "base_uri": "https://localhost:8080/"
    },
    "id": "BhLR3rp166bK",
    "outputId": "102717f7-8f73-4ff1-b5a8-2c5948c1df5d"
   },
   "outputs": [
    {
     "name": "stdout",
     "output_type": "stream",
     "text": [
      "+--------------+-----------+-------------+-----------+----+-----------------+\n",
      "|     review_id|star_rating|helpful_votes|total_votes|vine|verified_purchase|\n",
      "+--------------+-----------+-------------+-----------+----+-----------------+\n",
      "|R37F42INKX7L9K|          5|           45|         49|   N|                Y|\n",
      "|R2EHKYNEP8WVSR|          5|           25|         25|   N|                Y|\n",
      "| RXOS7BHID0UHL|          5|           16|         27|   N|                N|\n",
      "|R33HHGFPB403GM|          5|           19|         21|   N|                Y|\n",
      "| RY9O9XNLP464N|          2|           19|         22|   N|                Y|\n",
      "|R2VP11C28JAEZF|          5|           30|         30|   N|                Y|\n",
      "|R1TXGR1HA2M3P3|          5|           28|         29|   N|                Y|\n",
      "| R6OD85TMEMHQQ|          5|           28|         28|   N|                Y|\n",
      "|R1G4PAJXP3FTN7|          2|           43|         51|   N|                Y|\n",
      "|R2P2S8UGUMCOLX|          5|           21|         22|   N|                Y|\n",
      "| RBTQKXGJ9RP7C|          1|           33|         33|   N|                Y|\n",
      "|R342L93CXGDZO5|          2|           73|         76|   N|                Y|\n",
      "|R31Z97KFD4HMNF|          3|           23|         26|   N|                Y|\n",
      "|R2NDB7EQLYK87A|          5|           44|         46|   N|                Y|\n",
      "|R1C0W0OSBCVXC2|          1|           45|         46|   N|                Y|\n",
      "|R154Q41ID7FTFC|          5|           24|         26|   N|                Y|\n",
      "|R3GFX9ZNZ0T3TA|          1|           35|         35|   N|                Y|\n",
      "|R2H8MH0N2IZKMY|          5|           22|         23|   N|                Y|\n",
      "|R1MYE8WQ3812L8|          5|           17|         20|   N|                Y|\n",
      "| RYSL8MU2858GB|          5|           71|         73|   N|                Y|\n",
      "+--------------+-----------+-------------+-----------+----+-----------------+\n",
      "only showing top 20 rows\n",
      "\n"
     ]
    }
   ],
   "source": [
    "# Filter all the rows where a review was written as part of the Vine program (unpaid), vine == 'N'\n",
    "vine_unpaid_df = helpful_by_total_df.filter(\"vine == 'N'\")\n",
    "vine_unpaid_df.show()"
   ]
  },
  {
   "cell_type": "code",
   "execution_count": 12,
   "metadata": {
    "colab": {
     "base_uri": "https://localhost:8080/"
    },
    "id": "dJWsTGpU7sML",
    "outputId": "797884ba-9159-4bb6-b906-f4e181ed7383"
   },
   "outputs": [
    {
     "data": {
      "text/plain": [
       "22"
      ]
     },
     "execution_count": 12,
     "metadata": {},
     "output_type": "execute_result"
    }
   ],
   "source": [
    "# Paid total number of reviews\n",
    "total_paid_reviews = vine_paid_df.count()\n",
    "total_paid_reviews"
   ]
  },
  {
   "cell_type": "code",
   "execution_count": 13,
   "metadata": {
    "colab": {
     "base_uri": "https://localhost:8080/"
    },
    "id": "TCd0KPwY7sUT",
    "outputId": "3184ce9a-b8e8-4f56-c512-18ca6eba96ce"
   },
   "outputs": [
    {
     "data": {
      "text/plain": [
       "26987"
      ]
     },
     "execution_count": 13,
     "metadata": {},
     "output_type": "execute_result"
    }
   ],
   "source": [
    "# unPaid total number of reviews\n",
    "total_unpaid_reviews = vine_unpaid_df.count()\n",
    "total_unpaid_reviews"
   ]
  },
  {
   "cell_type": "code",
   "execution_count": 14,
   "metadata": {
    "colab": {
     "base_uri": "https://localhost:8080/"
    },
    "id": "1pJ-T3eV7sfd",
    "outputId": "46d48a78-6180-4f56-c14a-e64289db2d2f"
   },
   "outputs": [
    {
     "data": {
      "text/plain": [
       "13"
      ]
     },
     "execution_count": 14,
     "metadata": {},
     "output_type": "execute_result"
    }
   ],
   "source": [
    "# paid 5-star reviews\n",
    "paid_five_star_reviews = vine_paid_df.filter(vine_paid_df.star_rating == 5).count()\n",
    "paid_five_star_reviews"
   ]
  },
  {
   "cell_type": "code",
   "execution_count": 15,
   "metadata": {
    "colab": {
     "base_uri": "https://localhost:8080/"
    },
    "id": "tJMjc9KN7yOq",
    "outputId": "c0efdb31-0fe4-4777-ea5e-9735e99d06c7"
   },
   "outputs": [
    {
     "data": {
      "text/plain": [
       "14475"
      ]
     },
     "execution_count": 15,
     "metadata": {},
     "output_type": "execute_result"
    }
   ],
   "source": [
    "# unpaid 5-star reviews\n",
    "unpaid_five_star_reviews = vine_unpaid_df.filter(vine_unpaid_df.star_rating == 5).count()\n",
    "unpaid_five_star_reviews"
   ]
  },
  {
   "cell_type": "code",
   "execution_count": 16,
   "metadata": {
    "colab": {
     "base_uri": "https://localhost:8080/"
    },
    "id": "xOZZQ06r7yTQ",
    "outputId": "3153c011-e9ea-4227-c85d-5250076040ed"
   },
   "outputs": [
    {
     "data": {
      "text/plain": [
       "59.09090909090909"
      ]
     },
     "execution_count": 16,
     "metadata": {},
     "output_type": "execute_result"
    }
   ],
   "source": [
    "# paid 5-star reviews percentage\n",
    "paid_five_star_percent = (paid_five_star_reviews / total_paid_reviews) * 100\n",
    "paid_five_star_percent"
   ]
  },
  {
   "cell_type": "code",
   "execution_count": 17,
   "metadata": {
    "colab": {
     "base_uri": "https://localhost:8080/"
    },
    "id": "y5IWHCPu7yWY",
    "outputId": "ec346cb4-69e3-45e9-ace7-ffb21dbe350a"
   },
   "outputs": [
    {
     "data": {
      "text/plain": [
       "53.63693630266425"
      ]
     },
     "execution_count": 17,
     "metadata": {},
     "output_type": "execute_result"
    }
   ],
   "source": [
    "# unpaid 5-star reviews percentage\n",
    "unpaid_five_star_percent = (unpaid_five_star_reviews / total_unpaid_reviews) * 100\n",
    "unpaid_five_star_percent"
   ]
  }
 ],
 "metadata": {
  "colab": {
   "name": "Untitled1.ipynb",
   "provenance": []
  },
  "kernelspec": {
   "display_name": "Python 3",
   "language": "python",
   "name": "python3"
  },
  "language_info": {
   "codemirror_mode": {
    "name": "ipython",
    "version": 3
   },
   "file_extension": ".py",
   "mimetype": "text/x-python",
   "name": "python",
   "nbconvert_exporter": "python",
   "pygments_lexer": "ipython3",
   "version": "3.7.10"
  }
 },
 "nbformat": 4,
 "nbformat_minor": 1
}
